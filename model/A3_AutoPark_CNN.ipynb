{
 "cells": [
  {
   "cell_type": "markdown",
   "metadata": {},
   "source": [
    "## AutoPark - Number Plate Detection and Recognition\n",
    "---\n",
    "42028 - Assignment 3 - By PlateMates (Group 6)\n",
    "\n",
    "The dataset used can be found here: https://github.com/detectRecog/CCPD"
   ]
  },
  {
   "cell_type": "markdown",
   "metadata": {},
   "source": [
    "#### import necessary modules"
   ]
  },
  {
   "cell_type": "code",
   "execution_count": 34,
   "metadata": {},
   "outputs": [],
   "source": [
    "%matplotlib inline\n",
    "import os\n",
    "import numpy as np\n",
    "import matplotlib.pyplot as plt\n",
    "import tensorflow as tf\n",
    "from tensorflow import keras\n",
    "from sklearn.metrics import confusion_matrix, classification_report\n",
    "\n",
    "# import the pre-trained Xception CNN and its related preprocessing method\n",
    "from tensorflow.keras.applications.xception import Xception, preprocess_input, decode_predictions\n",
    "from tensorflow.keras.preprocessing import image \n",
    "from tensorflow.keras.callbacks import ModelCheckpoint"
   ]
  },
  {
   "cell_type": "markdown",
   "metadata": {},
   "source": [
    "## Dataset Annotations\n",
    "\n",
    "Annotations are embedded in the file name.\n",
    "\n",
    "A sample image name is \"025-95_113-154&383_386&473-386&473_177&454_154&383_363&402-0_0_22_27_27_33_16-37-15.jpg\". Each name can be split into seven fields. Those fields are explained as follows.\n",
    "\n",
    "- **Area**: Area ratio of license plate area to the entire picture area.\n",
    "\n",
    "- **Tilt degree**: Horizontal tilt degree and vertical tilt degree.\n",
    "\n",
    "- **Bounding box coordinates**: The coordinates of the left-up and the right-bottom vertices.\n",
    "\n",
    "- **Four vertices locations**: The exact (x, y) coordinates of the four vertices of LP in the whole image. These coordinates start from the right-bottom vertex.\n",
    "\n",
    "- **License plate number**: Each image in CCPD has only one LP. Each LP number is comprised of a Chinese character, a letter, and five letters or numbers. A valid Chinese license plate consists of seven characters: province (1 character), alphabets (1 character), alphabets+digits (5 characters). \"0_0_22_27_27_33_16\" is the index of each character. These three arrays are defined as follows. The last character of each array is letter O rather than a digit 0. We use O as a sign of \"no character\" because there is no O in Chinese license plate characters.\n",
    "```\n",
    "provinces = [\"皖\", \"沪\", \"津\", \"渝\", \"冀\", \"晋\", \"蒙\", \"辽\", \"吉\", \"黑\", \"苏\", \"浙\", \"京\", \"闽\", \"赣\", \"鲁\", \"豫\", \"鄂\", \"湘\", \"粤\", \"桂\", \"琼\", \"川\", \"贵\", \"云\", \"藏\", \"陕\", \"甘\", \"青\", \"宁\", \"新\", \"警\", \"学\", \"O\"]\n",
    "alphabets = ['A', 'B', 'C', 'D', 'E', 'F', 'G', 'H', 'J', 'K', 'L', 'M', 'N', 'P', 'Q', 'R', 'S', 'T', 'U', 'V', 'W',\n",
    "             'X', 'Y', 'Z', 'O']\n",
    "ads = ['A', 'B', 'C', 'D', 'E', 'F', 'G', 'H', 'J', 'K', 'L', 'M', 'N', 'P', 'Q', 'R', 'S', 'T', 'U', 'V', 'W', 'X',\n",
    "       'Y', 'Z', '0', '1', '2', '3', '4', '5', '6', '7', '8', '9', 'O']\n",
    "```\n",
    "\n",
    "- **Brightness**: The brightness of the license plate region.\n",
    "\n",
    "- **Blurriness**: The Blurriness of the license plate region."
   ]
  },
  {
   "cell_type": "code",
   "execution_count": 35,
   "metadata": {},
   "outputs": [],
   "source": [
    "def load_dataset(directory, target_size):\n",
    "    files = os.listdir(directory)\n",
    "\n",
    "    images = []\n",
    "    boxes = []\n",
    "    plate_labels = []\n",
    "\n",
    "    for filename in files:\n",
    "        # get bounding box coords and plate number\n",
    "        f = filename.split(\"-\")\n",
    "        bounding_box = [int(e) for e in f[2].split(\"_\") for e in e.split(\"&\")] # gives [xmin, ymin, xmax, ymax]\n",
    "        plate_number = f[4]\n",
    "\n",
    "        # extract image data to numpy array\n",
    "        image_path = os.path.join(directory, filename)\n",
    "        img = image.load_img(image_path, target_size=target_size)\n",
    "        img_arr = image.img_to_array(img)\n",
    "        \n",
    "        images.append(img_arr)\n",
    "        boxes.append(bounding_box)\n",
    "        plate_labels.append(plate_number)\n",
    "    \n",
    "    return np.array(images), np.array(boxes), np.array(plate_labels)"
   ]
  },
  {
   "cell_type": "code",
   "execution_count": 38,
   "metadata": {},
   "outputs": [
    {
     "output_type": "stream",
     "name": "stdout",
     "text": "(700, 512, 512, 3) (700, 4) (700,)\n"
    }
   ],
   "source": [
    "# directory for saving model checkpoints during training\n",
    "checkpoint_dir = \"checkpoints/\"\n",
    "\n",
    "base_dir = \"dataset/\"\n",
    "train_dir = os.path.join(base_dir, \"train\")\n",
    "val_dir = os.path.join(base_dir, \"validation\")\n",
    "test_dir = os.path.join(base_dir, \"test\")\n",
    "\n",
    "\n",
    "target_image_size = (512, 512)\n",
    "\n",
    "# load data for each set\n",
    "X_train, y_train_boxes, y_train_labels = load_dataset(train_dir, target_image_size)\n",
    "X_val, y_val_boxes, y_val_labels  = load_dataset(val_dir, target_image_size)\n",
    "X_test, y_test_boxes, y_test_labels  = load_dataset(test_dir, target_image_size)\n",
    "\n",
    "print(X_train.shape, y_train_boxes.shape, y_train_labels.shape)\n"
   ]
  },
  {
   "cell_type": "code",
   "execution_count": null,
   "metadata": {},
   "outputs": [],
   "source": []
  }
 ],
 "metadata": {
  "language_info": {
   "codemirror_mode": {
    "name": "ipython",
    "version": 3
   },
   "file_extension": ".py",
   "mimetype": "text/x-python",
   "name": "python",
   "nbconvert_exporter": "python",
   "pygments_lexer": "ipython3",
   "version": "3.7.7-final"
  },
  "orig_nbformat": 2,
  "kernelspec": {
   "name": "python3",
   "display_name": "Python 3"
  }
 },
 "nbformat": 4,
 "nbformat_minor": 2
}